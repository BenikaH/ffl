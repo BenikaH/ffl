{
 "cells": [
  {
   "cell_type": "markdown",
   "metadata": {},
   "source": [
    "# Using Monte Carlo Tree Search for your Fantasy Football draft\n",
    "My blog post about this notebook can be found on [Medium](https://medium.com/@ykeuter/using-monte-carlo-tree-search-for-your-fantasy-football-draft-6509b78a1c20)."
   ]
  },
  {
   "cell_type": "code",
   "execution_count": 4,
   "metadata": {},
   "outputs": [],
   "source": [
    "class DraftState:\n",
    "    def __init__(self, rosters, turns, freeagents, playerjm=None):\n",
    "        self.rosters = rosters\n",
    "        self.turns = turns\n",
    "        self.freeagents = freeagents\n",
    "        self.playerJustMoved = playerjm"
   ]
  },
  {
   "cell_type": "code",
   "execution_count": 5,
   "metadata": {},
   "outputs": [],
   "source": [
    "class NflPlayer:\n",
    "    def __init__(self, name, team, position, points):\n",
    "        self.name = name\n",
    "        self.team = team\n",
    "        self.position = position\n",
    "        self.points = points\n",
    "        \n",
    "    def __repr__(self):\n",
    "        return \"|\".join([self.name, self.team, self.position, str(self.points)])"
   ]
  },
  {
   "cell_type": "code",
   "execution_count": 6,
   "metadata": {},
   "outputs": [],
   "source": [
    "import numpy as np\n",
    "\n",
    "def GetResult(self, playerjm):\n",
    "    \"\"\" Get the game result from the viewpoint of playerjm.\n",
    "    \"\"\"\n",
    "    if playerjm is None: return 0\n",
    "    \n",
    "    pos_wgts = {\n",
    "        (\"QB\"): [.6, .4],\n",
    "        (\"WR\"): [.7, .7, .4, .2],\n",
    "        (\"RB\"): [.7, .7, .4, .2],\n",
    "        (\"TE\"): [.6, .4],\n",
    "        (\"RB\", \"WR\", \"TE\"): [.6, .4],\n",
    "        (\"D\"): [.6, .3, .1],\n",
    "        (\"K\"): [.5, .2, .2, .1]\n",
    "    }\n",
    "\n",
    "    result = 0\n",
    "    # map the drafted players to the weights\n",
    "    for p in self.rosters[playerjm]:\n",
    "        max_wgt, _, max_pos, old_wgts = max(\n",
    "            ((wgts[0], len(lineup_pos), lineup_pos, wgts) for lineup_pos, wgts in pos_wgts.items()\n",
    "                if p.position in lineup_pos),\n",
    "            default=(0, 0, (), []))\n",
    "        if max_wgt > 0:\n",
    "            result += max_wgt * p.points\n",
    "            old_wgts.pop(0)\n",
    "            if not old_wgts:\n",
    "                pos_wgts.pop(max_pos)\n",
    "                \n",
    "    # map the remaining weights to the top three free agents\n",
    "    for pos, wgts in pos_wgts.items():\n",
    "        result += np.mean([p.points for p in self.freeagents if p.position in pos][:3]) * sum(wgts)\n",
    "        \n",
    "    return result\n",
    "        \n",
    "DraftState.GetResult = GetResult"
   ]
  },
  {
   "cell_type": "code",
   "execution_count": 7,
   "metadata": {},
   "outputs": [],
   "source": [
    "def GetMoves(self):\n",
    "    \"\"\" Get all possible moves from this state.\n",
    "    \"\"\"\n",
    "    pos_max = {\"QB\": 2, \"WR\": 6, \"RB\": 6, \"TE\": 2, \"D\": 2, \"K\": 1}\n",
    "\n",
    "    if len(self.turns) == 0: return []\n",
    "\n",
    "    roster_positions = np.array([p.position for p in self.rosters[self.turns[0]]], dtype=str)\n",
    "    moves = [pos for pos, max_ in pos_max.items() if np.sum(roster_positions == pos) < max_]\n",
    "    return moves\n",
    "\n",
    "DraftState.GetMoves = GetMoves"
   ]
  },
  {
   "cell_type": "code",
   "execution_count": 8,
   "metadata": {},
   "outputs": [],
   "source": [
    "def DoMove(self, move):\n",
    "    \"\"\" Update a state by carrying out the given move.\n",
    "        Must update playerJustMoved.\n",
    "    \"\"\"\n",
    "    player = next(p for p in self.freeagents if p.position == move)\n",
    "    self.freeagents.remove(player)\n",
    "    rosterId = self.turns.pop(0)\n",
    "    self.rosters[rosterId].append(player)\n",
    "    self.playerJustMoved = rosterId\n",
    "    \n",
    "DraftState.DoMove = DoMove"
   ]
  },
  {
   "cell_type": "code",
   "execution_count": 9,
   "metadata": {},
   "outputs": [],
   "source": [
    "def Clone(self):\n",
    "    \"\"\" Create a deep clone of this game state.\n",
    "    \"\"\"\n",
    "    rosters = list(map(lambda r: r[:], self.rosters))\n",
    "    st = DraftState(rosters, self.turns[:], self.freeagents[:],\n",
    "            self.playerJustMoved)\n",
    "    return st\n",
    "\n",
    "DraftState.Clone = Clone"
   ]
  },
  {
   "cell_type": "code",
   "execution_count": 10,
   "metadata": {},
   "outputs": [],
   "source": [
    "# This is a very simple implementation of the UCT Monte Carlo Tree Search algorithm in Python 2.7.\n",
    "# The function UCT(rootstate, itermax, verbose = False) is towards the bottom of the code.\n",
    "# It aims to have the clearest and simplest possible code, and for the sake of clarity, the code\n",
    "# is orders of magnitude less efficient than it could be made, particularly by using a \n",
    "# state.GetRandomMove() or state.DoRandomRollout() function.\n",
    "# \n",
    "# Written by Peter Cowling, Ed Powley, Daniel Whitehouse (University of York, UK) September 2012.\n",
    "# \n",
    "# Licence is granted to freely use and distribute for any sensible/legal purpose so long as this comment\n",
    "# remains in any distributed code.\n",
    "# \n",
    "# For more information about Monte Carlo Tree Search check out our web site at www.mcts.ai\n",
    "\n",
    "from math import *\n",
    "import random\n",
    "\n",
    "class Node:\n",
    "    \"\"\" A node in the game tree. Note wins is always from the viewpoint of playerJustMoved.\n",
    "        Crashes if state not specified.\n",
    "    \"\"\"\n",
    "    def __init__(self, move = None, parent = None, state = None):\n",
    "        self.move = move # the move that got us to this node - \"None\" for the root node\n",
    "        self.parentNode = parent # \"None\" for the root node\n",
    "        self.childNodes = []\n",
    "        self.wins = 0\n",
    "        self.visits = 0\n",
    "        self.untriedMoves = state.GetMoves() # future child nodes\n",
    "        self.playerJustMoved = state.playerJustMoved # the only part of the state that the Node needs later\n",
    "        \n",
    "    def UCTSelectChild(self):\n",
    "        \"\"\" Use the UCB1 formula to select a child node. Often a constant UCTK is applied so we have\n",
    "            lambda c: c.wins/c.visits + UCTK * sqrt(2*log(self.visits)/c.visits to vary the amount of\n",
    "            exploration versus exploitation.\n",
    "        \"\"\"\n",
    "        UCTK = 200\n",
    "        s = sorted(self.childNodes, key = lambda c: c.wins/c.visits + UCTK * sqrt(2*log(self.visits)/c.visits))[-1]\n",
    "        return s\n",
    "    \n",
    "    def AddChild(self, m, s):\n",
    "        \"\"\" Remove m from untriedMoves and add a new child node for this move.\n",
    "            Return the added child node\n",
    "        \"\"\"\n",
    "        n = Node(move = m, parent = self, state = s)\n",
    "        self.untriedMoves.remove(m)\n",
    "        self.childNodes.append(n)\n",
    "        return n\n",
    "    \n",
    "    def Update(self, result):\n",
    "        \"\"\" Update this node - one additional visit and result additional wins. result must be from the viewpoint of playerJustmoved.\n",
    "        \"\"\"\n",
    "        self.visits += 1\n",
    "        self.wins += result\n",
    "\n",
    "\n",
    "def UCT(rootstate, itermax, verbose = False):\n",
    "    \"\"\" Conduct a UCT search for itermax iterations starting from rootstate.\n",
    "        Return the best move from the rootstate.\n",
    "    \"\"\"\n",
    "\n",
    "    rootnode = Node(state = rootstate)\n",
    "\n",
    "    for i in range(itermax):\n",
    "        node = rootnode\n",
    "        state = rootstate.Clone()\n",
    "\n",
    "        # Select\n",
    "        while node.untriedMoves == [] and node.childNodes != []: # node is fully expanded and non-terminal\n",
    "            node = node.UCTSelectChild()\n",
    "            state.DoMove(node.move)\n",
    "\n",
    "        # Expand\n",
    "        if node.untriedMoves != []: # if we can expand (i.e. state/node is non-terminal)\n",
    "            m = random.choice(node.untriedMoves) \n",
    "            state.DoMove(m)\n",
    "            node = node.AddChild(m,state) # add child and descend tree\n",
    "\n",
    "        # Rollout - this can often be made orders of magnitude quicker using a state.GetRandomMove() function\n",
    "        while state.GetMoves() != []: # while state is non-terminal\n",
    "            state.DoMove(random.choice(state.GetMoves()))\n",
    "\n",
    "        # Backpropagate\n",
    "        while node != None: # backpropagate from the expanded node and work back to the root node\n",
    "            node.Update(state.GetResult(node.playerJustMoved)) # state is terminal. Update node with result from POV of node.playerJustMoved\n",
    "            node = node.parentNode\n",
    "\n",
    "    return sorted(rootnode.childNodes, key = lambda c: c.visits)[-1].move # return the move that was most visited"
   ]
  },
  {
   "cell_type": "code",
   "execution_count": 37,
   "metadata": {},
   "outputs": [
    {
     "name": "stdout",
     "output_type": "stream",
     "text": [
      "RB.RB.RB.RB.RB.RB.WR.RB.RB.WR.RB.RB.RB.RB.RB.RB.RB.WR.RB.RB.RB.WR.WR.RB.RB.RB.WR.TE.RB.RB.WR.RB.WR.WR.TE.WR.WR.WR.WR.WR.WR.WR.RB.RB.TE.RB.RB.TE.WR.WR.WR.WR.WR.TE.WR.WR.TE.WR.WR.WR.WR.WR.TE.WR.WR.WR.WR.QB.RB.RB.WR.WR.WR.TE.QB.WR.QB.QB.WR.WR.TE.TE.WR.RB.QB.WR.TE.RB.RB.TE.TE.TE.RB.RB.WR.WR.RB.RB.WR.RB.WR.QB.QB.WR.TE.WR.TE.D.RB.RB.QB.RB.RB.QB.RB.WR.WR.TE.RB.RB.WR.WR.WR.RB.D.TE.WR.WR.WR.WR.RB.QB.WR.RB.WR.TE.RB.QB.TE.WR.RB.TE.RB.RB.QB.RB.RB.K.TE.RB.RB.QB.RB.WR.WR.RB.RB.RB.RB.RB.D.D.K.RB.WR.QB.QB.RB.WR.RB.QB.WR.D.WR.RB.D.WR.D.D.RB.QB.D.D.WR.D.QB.QB.RB.WR.D.D.D.D.D.WR.D.D.WR.QB.QB.K.WR.QB.D.RB.WR.WR.K.QB.WR.D.D.D.WR.K.K.QB.QB.WR.QB.RB.WR.D.TE.WR.QB.WR.D.RB.QB.TE.QB.QB.QB.WR.QB.WR.WR.WR.RB.QB.WR.RB.K.RB.RB.RB.WR.WR.RB.WR.RB.QB.WR.WR.WR.WR.TE.WR.RB.TE.WR.RB.RB.RB.WR.WR.RB.WR.WR.RB.WR.WR.RB.WR.WR.WR.TE.RB.TE.TE.K.TE.WR.K.K.K.WR.TE.TE.K.WR.RB.WR.QB.RB.WR.WR.QB.D.D.K.K.D.D.D.TE.QB.D.TE.D.D.TE.D.D.D.TE.QB.WR.QB."
     ]
    }
   ],
   "source": [
    "import pandas as pd\n",
    "\n",
    "nfl_players = pd.read_csv(\"nfl_players.csv\", index_col=0)\n",
    "freeagents = [NflPlayer(*p) for p in nfl_players.itertuples(index=False, name=None)]\n",
    "\n",
    "num_competitors = 10\n",
    "rosters = [[] for _ in range(num_competitors)] # empty rosters to start with\n",
    "\n",
    "num_rounds = 16\n",
    "turns = []\n",
    "# generate turns by snake order\n",
    "for i in range(num_rounds):\n",
    "    turns += reversed(range(num_competitors)) if i % 2 else range(num_competitors)\n",
    "    \n",
    "state1 = DraftState(rosters, turns, freeagents)\n",
    "state2 = state1.Clone()\n",
    "iterations = 500\n",
    "while state1.GetMoves() != []:\n",
    "    move1 = UCT(state1, iterations * (state1.turns[0] % 2 + 1))\n",
    "    print(move1, end=\".\")\n",
    "    state1.DoMove(move1)\n",
    "    move2 = UCT(state2, iterations * ((state2.turns[0] + 1) % 2 + 1))\n",
    "    print(move2, end=\".\")\n",
    "    state2.DoMove(move2)"
   ]
  },
  {
   "cell_type": "code",
   "execution_count": 38,
   "metadata": {},
   "outputs": [
    {
     "data": {
      "image/png": "[encoded data removed]",
      "text/plain": [
       "<Figure size 432x288 with 1 Axes>"
      ]
     },
     "metadata": {},
     "output_type": "display_data"
    },
    {
     "name": "stdout",
     "output_type": "stream",
     "text": [
      "0.4439991068646011\n"
     ]
    }
   ],
   "source": [
    "import matplotlib.pyplot as plt\n",
    "from scipy import stats\n",
    "\n",
    "results1 = [sum(p.points for p in r) for r in state1.rosters]\n",
    "results2 = [sum(p.points for p in r) for r in state2.rosters]\n",
    "results1 = np.reshape(results1, (-1, 2))\n",
    "results2 = np.reshape(results2, (-1, 2))\n",
    "results_single = np.ravel(np.hstack((results1[:, 0], results2[:, 1])))\n",
    "results_double = np.ravel(np.hstack((results2[:, 0], results1[:, 1])))\n",
    "\n",
    "plt.plot(results_single, label=f\"{iterations} iterations\")\n",
    "plt.plot(results_double, label=f\"{iterations * 2} iterations\")\n",
    "plt.legend()\n",
    "plt.show()\n",
    "\n",
    "d = results_double - results_single\n",
    "t = d.mean() / d.std(ddof=1) * np.sqrt(len(d))\n",
    "p = 1 - stats.t.cdf(t, df=len(d) - 1)\n",
    "\n",
    "print(p)\n"
   ]
  },
  {
   "cell_type": "code",
   "execution_count": 13,
   "metadata": {},
   "outputs": [
    {
     "data": {
      "text/plain": [
       "array([0, 1, 2, 3])"
      ]
     },
     "execution_count": 13,
     "metadata": {},
     "output_type": "execute_result"
    }
   ],
   "source": [
    "a = np.array([[0, 1], [2, 3]])\n",
    "a.reshape((-1))"
   ]
  },
  {
   "cell_type": "code",
   "execution_count": 2,
   "metadata": {},
   "outputs": [
    {
     "data": {
      "text/plain": [
       "0"
      ]
     },
     "execution_count": 2,
     "metadata": {},
     "output_type": "execute_result"
    }
   ],
   "source": []
  },
  {
   "cell_type": "code",
   "execution_count": 3,
   "metadata": {},
   "outputs": [
    {
     "data": {
      "text/plain": [
       "0"
      ]
     },
     "execution_count": 3,
     "metadata": {},
     "output_type": "execute_result"
    }
   ],
   "source": []
  },
  {
   "cell_type": "code",
   "execution_count": null,
   "metadata": {},
   "outputs": [],
   "source": []
  }
 ],
 "metadata": {
  "kernelspec": {
   "display_name": "Python 3",
   "language": "python",
   "name": "python3"
  },
  "language_info": {
   "codemirror_mode": {
    "name": "ipython",
    "version": 3
   },
   "file_extension": ".py",
   "mimetype": "text/x-python",
   "name": "python",
   "nbconvert_exporter": "python",
   "pygments_lexer": "ipython3",
   "version": "3.6.5"
  }
 },
 "nbformat": 4,
 "nbformat_minor": 2
}
