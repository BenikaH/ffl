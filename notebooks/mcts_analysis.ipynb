{
 "cells": [
  {
   "cell_type": "markdown",
   "metadata": {},
   "source": [
    "# Performance of Monte Carlo Tree Search for Fantasy Football drafts\n",
    "My [blog post](https://medium.com/@ykeuter/performance-of-monte-carlo-tree-search-for-fantasy-football-drafts-269075d08088) about this notebook can be found on Medium."
   ]
  },
  {
   "cell_type": "code",
   "execution_count": 1,
   "metadata": {},
   "outputs": [],
   "source": [
    "class DraftState:\n",
    "    def __init__(self, rosters, turns, freeagents, playerjm=None):\n",
    "        self.rosters = rosters\n",
    "        self.turns = turns\n",
    "        self.freeagents = freeagents\n",
    "        self.playerJustMoved = playerjm"
   ]
  },
  {
   "cell_type": "code",
   "execution_count": 2,
   "metadata": {},
   "outputs": [],
   "source": [
    "class NflPlayer:\n",
    "    def __init__(self, name, team, position, points):\n",
    "        self.name = name\n",
    "        self.team = team\n",
    "        self.position = position\n",
    "        self.points = points\n",
    "        \n",
    "    def __repr__(self):\n",
    "        return \"|\".join([self.name, self.team, self.position, str(self.points)])"
   ]
  },
  {
   "cell_type": "code",
   "execution_count": 3,
   "metadata": {},
   "outputs": [],
   "source": [
    "import numpy as np\n",
    "\n",
    "def GetResult(self, playerjm):\n",
    "    \"\"\" Get the game result from the viewpoint of playerjm.\n",
    "    \"\"\"\n",
    "    if playerjm is None: return 0\n",
    "    \n",
    "    pos_wgts = {\n",
    "        (\"QB\"): [.6, .4],\n",
    "        (\"WR\"): [.7, .7, .4, .2],\n",
    "        (\"RB\"): [.7, .7, .4, .2],\n",
    "        (\"TE\"): [.6, .4],\n",
    "        (\"RB\", \"WR\", \"TE\"): [.6, .4],\n",
    "        (\"D\"): [.6, .3, .1],\n",
    "        (\"K\"): [.5, .2, .2, .1]\n",
    "    }\n",
    "\n",
    "    result = 0\n",
    "    # map the drafted players to the weights\n",
    "    for p in self.rosters[playerjm]:\n",
    "        max_wgt, _, max_pos, old_wgts = max(\n",
    "            ((wgts[0], -len(lineup_pos), lineup_pos, wgts) for lineup_pos, wgts in pos_wgts.items()\n",
    "                if p.position in lineup_pos),\n",
    "            default=(0, 0, (), []))\n",
    "        if max_wgt > 0:\n",
    "            result += max_wgt * p.points\n",
    "            old_wgts.pop(0)\n",
    "            if not old_wgts:\n",
    "                pos_wgts.pop(max_pos)\n",
    "                \n",
    "    # map the remaining weights to the top three free agents\n",
    "    for pos, wgts in pos_wgts.items():\n",
    "        result += np.mean([p.points for p in self.freeagents if p.position in pos][:3]) * sum(wgts)\n",
    "        \n",
    "    return result\n",
    "        \n",
    "DraftState.GetResult = GetResult"
   ]
  },
  {
   "cell_type": "code",
   "execution_count": 4,
   "metadata": {},
   "outputs": [],
   "source": [
    "def GetMoves(self):\n",
    "    \"\"\" Get all possible moves from this state.\n",
    "    \"\"\"\n",
    "    pos_max = {\"QB\": 2, \"WR\": 6, \"RB\": 6, \"TE\": 2, \"D\": 2, \"K\": 1}\n",
    "\n",
    "    if len(self.turns) == 0: return []\n",
    "\n",
    "    roster_positions = np.array([p.position for p in self.rosters[self.turns[0]]], dtype=str)\n",
    "    moves = [pos for pos, max_ in pos_max.items() if np.sum(roster_positions == pos) < max_]\n",
    "    return moves\n",
    "\n",
    "DraftState.GetMoves = GetMoves"
   ]
  },
  {
   "cell_type": "code",
   "execution_count": 5,
   "metadata": {},
   "outputs": [],
   "source": [
    "def DoMove(self, move):\n",
    "    \"\"\" Update a state by carrying out the given move.\n",
    "        Must update playerJustMoved.\n",
    "    \"\"\"\n",
    "    player = next(p for p in self.freeagents if p.position == move)\n",
    "    self.freeagents.remove(player)\n",
    "    rosterId = self.turns.pop(0)\n",
    "    self.rosters[rosterId].append(player)\n",
    "    self.playerJustMoved = rosterId\n",
    "    \n",
    "DraftState.DoMove = DoMove"
   ]
  },
  {
   "cell_type": "code",
   "execution_count": 6,
   "metadata": {},
   "outputs": [],
   "source": [
    "def Clone(self):\n",
    "    \"\"\" Create a deep clone of this game state.\n",
    "    \"\"\"\n",
    "    rosters = list(map(lambda r: r[:], self.rosters))\n",
    "    st = DraftState(rosters, self.turns[:], self.freeagents[:],\n",
    "            self.playerJustMoved)\n",
    "    return st\n",
    "\n",
    "DraftState.Clone = Clone"
   ]
  },
  {
   "cell_type": "code",
   "execution_count": 7,
   "metadata": {},
   "outputs": [],
   "source": [
    "# This is a very simple implementation of the UCT Monte Carlo Tree Search algorithm in Python 2.7.\n",
    "# The function UCT(rootstate, itermax, verbose = False) is towards the bottom of the code.\n",
    "# It aims to have the clearest and simplest possible code, and for the sake of clarity, the code\n",
    "# is orders of magnitude less efficient than it could be made, particularly by using a \n",
    "# state.GetRandomMove() or state.DoRandomRollout() function.\n",
    "# \n",
    "# Written by Peter Cowling, Ed Powley, Daniel Whitehouse (University of York, UK) September 2012.\n",
    "# \n",
    "# Licence is granted to freely use and distribute for any sensible/legal purpose so long as this comment\n",
    "# remains in any distributed code.\n",
    "# \n",
    "# For more information about Monte Carlo Tree Search check out our web site at www.mcts.ai\n",
    "\n",
    "from math import *\n",
    "import random\n",
    "\n",
    "class Node:\n",
    "    \"\"\" A node in the game tree. Note wins is always from the viewpoint of playerJustMoved.\n",
    "        Crashes if state not specified.\n",
    "    \"\"\"\n",
    "    def __init__(self, move = None, parent = None, state = None):\n",
    "        self.move = move # the move that got us to this node - \"None\" for the root node\n",
    "        self.parentNode = parent # \"None\" for the root node\n",
    "        self.childNodes = []\n",
    "        self.wins = 0\n",
    "        self.visits = 0\n",
    "        self.untriedMoves = state.GetMoves() # future child nodes\n",
    "        self.playerJustMoved = state.playerJustMoved # the only part of the state that the Node needs later\n",
    "        \n",
    "    def UCTSelectChild(self):\n",
    "        \"\"\" Use the UCB1 formula to select a child node. Often a constant UCTK is applied so we have\n",
    "            lambda c: c.wins/c.visits + UCTK * sqrt(2*log(self.visits)/c.visits to vary the amount of\n",
    "            exploration versus exploitation.\n",
    "        \"\"\"\n",
    "        UCTK = 200\n",
    "        s = sorted(self.childNodes, key = lambda c: c.wins/c.visits + UCTK * sqrt(2*log(self.visits)/c.visits))[-1]\n",
    "        return s\n",
    "    \n",
    "    def AddChild(self, m, s):\n",
    "        \"\"\" Remove m from untriedMoves and add a new child node for this move.\n",
    "            Return the added child node\n",
    "        \"\"\"\n",
    "        n = Node(move = m, parent = self, state = s)\n",
    "        self.untriedMoves.remove(m)\n",
    "        self.childNodes.append(n)\n",
    "        return n\n",
    "    \n",
    "    def Update(self, result):\n",
    "        \"\"\" Update this node - one additional visit and result additional wins. result must be from the viewpoint of playerJustmoved.\n",
    "        \"\"\"\n",
    "        self.visits += 1\n",
    "        self.wins += result\n",
    "\n",
    "\n",
    "def UCT(rootstate, itermax, verbose = False):\n",
    "    \"\"\" Conduct a UCT search for itermax iterations starting from rootstate.\n",
    "        Return the best move from the rootstate.\n",
    "    \"\"\"\n",
    "\n",
    "    rootnode = Node(state = rootstate)\n",
    "\n",
    "    for i in range(itermax):\n",
    "        node = rootnode\n",
    "        state = rootstate.Clone()\n",
    "\n",
    "        # Select\n",
    "        while node.untriedMoves == [] and node.childNodes != []: # node is fully expanded and non-terminal\n",
    "            node = node.UCTSelectChild()\n",
    "            state.DoMove(node.move)\n",
    "\n",
    "        # Expand\n",
    "        if node.untriedMoves != []: # if we can expand (i.e. state/node is non-terminal)\n",
    "            m = random.choice(node.untriedMoves) \n",
    "            state.DoMove(m)\n",
    "            node = node.AddChild(m,state) # add child and descend tree\n",
    "\n",
    "        # Rollout - this can often be made orders of magnitude quicker using a state.GetRandomMove() function\n",
    "        while state.GetMoves() != []: # while state is non-terminal\n",
    "            state.DoMove(random.choice(state.GetMoves()))\n",
    "\n",
    "        # Backpropagate\n",
    "        while node != None: # backpropagate from the expanded node and work back to the root node\n",
    "            node.Update(state.GetResult(node.playerJustMoved)) # state is terminal. Update node with result from POV of node.playerJustMoved\n",
    "            node = node.parentNode\n",
    "\n",
    "    return sorted(rootnode.childNodes, key = lambda c: c.visits)[-1].move # return the move that was most visited"
   ]
  },
  {
   "cell_type": "code",
   "execution_count": 8,
   "metadata": {},
   "outputs": [],
   "source": [
    "import pandas as pd\n",
    "\n",
    "nfl_players = pd.read_csv(\"nfl_players.csv\", index_col=0)\n",
    "freeagents = [NflPlayer(*p) for p in nfl_players.itertuples(index=False, name=None)]\n",
    "\n",
    "num_competitors = 10\n",
    "rosters = [[] for _ in range(num_competitors)] # empty rosters to start with\n",
    "\n",
    "num_rounds = 16\n",
    "turns = []\n",
    "# generate turns by snake order\n",
    "for i in range(num_rounds):\n",
    "    turns += reversed(range(num_competitors)) if i % 2 else range(num_competitors)\n",
    "    \n",
    "state = DraftState(rosters, turns, freeagents)"
   ]
  },
  {
   "cell_type": "code",
   "execution_count": 13,
   "metadata": {},
   "outputs": [
    {
     "name": "stdout",
     "output_type": "stream",
     "text": [
      "100\n",
      "RB.RB.RB.RB.RB.RB.RB.RB.WR.WR.RB.RB.WR.WR.RB.WR.TE.RB.RB.TE.RB.TE.RB.WR.RB.RB.RB.RB.RB.RB.WR.RB.WR.WR.RB.RB.WR.RB.WR.WR.WR.WR.RB.RB.WR.RB.WR.WR.WR.WR.TE.TE.TE.WR.WR.WR.TE.WR.WR.RB.WR.WR.WR.WR.WR.WR.TE.WR.TE.TE.RB.WR.WR.D.RB.TE.WR.WR.WR.WR.QB.RB.WR.QB.QB.QB.TE.RB.K.RB.QB.WR.RB.WR.WR.RB.RB.TE.WR.WR.QB.QB.QB.RB.WR.TE.WR.TE.WR.QB.RB.WR.RB.WR.TE.RB.TE.TE.RB.QB.WR.WR.WR.WR.RB.TE.WR.WR.WR.QB.D.RB.QB.RB.TE.WR.QB.WR.D.RB.WR.WR.D.RB.RB.RB.RB.RB.RB.RB.TE.RB.RB.TE.RB.RB.RB.WR.RB.RB.D.K.QB.RB.RB.QB.D.D.RB.QB.RB.K.RB.QB.WR.QB.WR.QB.RB.RB.K.D.WR.WR.D.D.QB.D.WR.WR.WR.WR.QB.TE.QB.WR.D.WR.D.WR.QB.D.WR.TE.WR.D.D.RB.D.D.WR.D.D.WR.D.QB.RB.D.WR.K.QB.RB.WR.QB.K.WR.RB.D.RB.RB.D.RB.WR.K.D.WR.QB.K.K.D.TE.QB.RB.QB.D.RB.RB.QB.QB.K.QB.WR.WR.RB.QB.RB.D.RB.TE.WR.RB.QB.RB.WR.TE.RB.K.WR.K.WR.RB.TE.TE.WR.WR.WR.TE.RB.WR.WR.RB.RB.WR.D.WR.WR.WR.RB.TE.WR.WR.RB.WR.TE.WR.D.WR.TE.WR.WR.D.D.K.K.RB.K.WR.QB.D.QB.WR.D.QB.WR.TE.WR.RB.WR.WR.RB.200\n",
      "RB.RB.RB.WR.RB.RB.WR.RB.RB.RB.RB.RB.RB.RB.RB.RB.WR.WR.WR.RB.RB.RB.TE.RB.WR.RB.WR.TE.WR.RB.RB.WR.RB.WR.RB.WR.RB.WR.WR.WR.RB.WR.WR.RB.RB.RB.TE.WR.TE.TE.WR.WR.WR.TE.WR.WR.TE.WR.WR.WR.WR.RB.RB.WR.WR.WR.WR.WR.WR.QB.TE.TE.QB.WR.QB.WR.WR.WR.WR.WR.WR.QB.WR.TE.RB.WR.TE.TE.QB.RB.RB.RB.QB.RB.RB.WR.WR.RB.TE.TE.WR.WR.RB.QB.WR.TE.RB.QB.TE.TE.WR.QB.D.RB.TE.WR.TE.WR.QB.RB.WR.D.WR.RB.RB.TE.RB.WR.WR.WR.WR.RB.WR.WR.QB.WR.WR.WR.RB.WR.RB.QB.RB.RB.TE.RB.D.WR.RB.TE.WR.WR.WR.RB.K.RB.RB.QB.RB.WR.D.RB.QB.RB.WR.K.WR.D.RB.RB.QB.RB.RB.RB.RB.WR.QB.WR.D.RB.QB.QB.D.D.D.QB.WR.D.D.D.D.D.RB.K.D.D.WR.D.QB.WR.D.D.D.QB.RB.QB.QB.QB.QB.D.K.K.TE.QB.WR.D.D.TE.WR.D.K.WR.WR.RB.RB.QB.RB.WR.WR.WR.WR.QB.WR.WR.WR.WR.RB.WR.WR.QB.WR.RB.QB.RB.WR.RB.RB.RB.K.WR.QB.WR.QB.WR.WR.WR.RB.QB.QB.K.WR.RB.WR.WR.TE.RB.WR.RB.WR.RB.RB.WR.K.WR.TE.WR.TE.WR.RB.WR.TE.TE.WR.TE.WR.TE.WR.TE.WR.RB.RB.D.K.D.QB.K.QB.K.RB.RB.D.D.K.D.D.TE.D.K.D.WR.D.WR.D.QB.D.QB.D.D.TE.TE.400\n",
      "RB.RB.RB.RB.RB.RB.WR.WR.RB.RB.RB.RB.RB.RB.RB.RB.TE.RB.RB.RB.WR.TE.RB.WR.WR.WR.RB.RB.RB.WR.RB.WR.WR.RB.WR.RB.WR.WR.WR.WR.RB.WR.WR.WR.WR.RB.RB.WR.TE.RB.TE.TE.WR.TE.WR.WR.TE.WR.WR.TE.WR.WR.QB.WR.WR.WR.WR.TE.TE.TE.WR.WR.WR.WR.WR.QB.WR.WR.WR.WR.WR.RB.RB.QB.QB.TE.RB.QB.TE.WR.WR.RB.WR.WR.RB.RB.RB.RB.TE.QB.RB.WR.QB.QB.QB.WR.TE.D.QB.QB.WR.TE.TE.RB.RB.RB.WR.RB.WR.TE.TE.WR.D.WR.WR.TE.WR.WR.QB.WR.K.RB.WR.WR.WR.RB.RB.WR.WR.RB.RB.WR.RB.RB.RB.TE.RB.WR.WR.RB.WR.RB.TE.RB.RB.RB.RB.RB.RB.RB.D.D.QB.K.QB.WR.RB.QB.RB.QB.WR.WR.WR.RB.D.K.WR.D.D.RB.QB.D.WR.WR.WR.D.D.QB.RB.D.D.D.D.D.D.WR.K.D.QB.QB.D.WR.RB.QB.WR.D.QB.D.QB.WR.D.QB.QB.QB.K.D.D.K.WR.WR.RB.RB.RB.TE.QB.WR.QB.WR.QB.RB.D.RB.WR.WR.TE.RB.WR.WR.WR.QB.RB.RB.WR.RB.RB.WR.RB.RB.WR.QB.WR.WR.RB.RB.WR.QB.WR.QB.WR.WR.QB.K.WR.WR.RB.WR.WR.WR.RB.WR.RB.WR.WR.WR.WR.WR.TE.WR.TE.K.K.TE.TE.TE.K.K.K.TE.WR.TE.D.D.TE.D.D.RB.D.RB.D.D.TE.QB.K.D.TE.QB.D.K.WR.WR.WR.D.QB.TE.TE.QB.QB.TE.WR.WR.600\n",
      "RB.RB.RB.RB.RB.RB.WR.RB.RB.WR.RB.RB.RB.RB.RB.RB.RB.RB.RB.RB.WR.WR.RB.WR.WR.WR.WR.TE.WR.RB.WR.RB.RB.RB.RB.WR.TE.WR.WR.WR.WR.WR.TE.WR.RB.RB.RB.RB.WR.WR.WR.TE.TE.TE.WR.WR.WR.WR.WR.WR.WR.WR.WR.WR.WR.WR.TE.QB.WR.TE.WR.WR.RB.TE.QB.RB.QB.WR.WR.WR.TE.QB.WR.RB.TE.TE.TE.RB.RB.RB.RB.WR.QB.WR.RB.TE.WR.RB.RB.RB.WR.QB.WR.WR.TE.WR.RB.RB.TE.QB.WR.QB.QB.TE.RB.RB.RB.WR.RB.RB.WR.WR.QB.TE.RB.RB.RB.RB.TE.WR.WR.D.D.WR.WR.RB.QB.TE.TE.WR.RB.RB.RB.QB.RB.RB.WR.WR.RB.WR.RB.TE.RB.K.K.D.WR.QB.RB.RB.D.D.WR.RB.WR.QB.WR.WR.QB.RB.QB.WR.WR.RB.QB.QB.D.RB.D.D.QB.WR.WR.D.D.D.RB.D.D.RB.D.D.D.D.WR.WR.RB.D.QB.WR.WR.QB.D.WR.D.K.QB.WR.D.QB.K.QB.QB.QB.WR.D.TE.K.K.QB.WR.RB.QB.WR.QB.WR.WR.WR.WR.WR.QB.WR.RB.RB.RB.RB.WR.QB.QB.TE.D.D.RB.RB.WR.QB.WR.WR.WR.WR.RB.RB.RB.RB.RB.QB.TE.WR.WR.TE.RB.WR.WR.RB.WR.WR.WR.WR.WR.WR.WR.RB.K.WR.TE.WR.K.WR.WR.WR.RB.RB.WR.TE.WR.TE.TE.D.RB.K.TE.K.K.K.D.TE.D.D.QB.D.D.TE.RB.QB.TE.RB.D.D.QB.D.TE.D.WR.QB.QB.WR.D.K.TE.TE.800\n",
      "RB.RB.RB.RB.RB.RB.WR.RB.RB.RB.RB.WR.RB.RB.RB.RB.RB.WR.WR.RB.RB.WR.RB.RB.RB.RB.WR.WR.RB.RB.TE.RB.WR.TE.WR.WR.WR.WR.WR.WR.WR.WR.RB.RB.RB.RB.WR.TE.TE.WR.WR.WR.WR.WR.WR.WR.TE.TE.WR.WR.WR.WR.TE.TE.WR.WR.WR.WR.RB.WR.QB.RB.RB.QB.WR.WR.WR.WR.WR.WR.TE.TE.WR.WR.WR.WR.QB.QB.RB.TE.TE.RB.RB.RB.WR.WR.QB.RB.TE.RB.RB.TE.WR.QB.TE.TE.QB.TE.RB.QB.WR.RB.RB.RB.QB.WR.TE.QB.RB.RB.WR.WR.WR.WR.TE.TE.WR.D.D.RB.RB.WR.WR.WR.WR.WR.RB.RB.WR.WR.RB.RB.RB.RB.QB.QB.RB.RB.TE.RB.WR.TE.RB.WR.WR.RB.RB.RB.RB.RB.QB.D.QB.K.RB.QB.D.WR.WR.RB.K.D.D.QB.RB.RB.WR.WR.QB.QB.D.D.D.D.D.D.QB.D.WR.WR.RB.WR.WR.WR.D.D.D.D.D.QB.K.K.WR.WR.QB.QB.QB.RB.QB.D.D.QB.K.QB.WR.WR.D.D.WR.K.RB.WR.WR.WR.RB.RB.WR.WR.RB.TE.WR.QB.TE.WR.WR.WR.QB.QB.WR.WR.QB.QB.D.D.WR.RB.WR.RB.WR.WR.QB.WR.WR.WR.QB.WR.RB.QB.WR.WR.K.RB.WR.RB.WR.TE.RB.RB.WR.RB.RB.WR.RB.WR.RB.WR.WR.WR.RB.RB.TE.TE.RB.RB.K.K.K.K.D.K.QB.TE.TE.TE.TE.QB.QB.WR.TE.QB.D.D.RB.K.D.D.D.D.WR.D.K.QB.TE.D.TE.TE.TE.RB.WR.WR.1000\n",
      "RB.RB.RB.RB.RB.RB.RB.RB.RB.WR.WR.RB.RB.RB.RB.RB.WR.RB.WR.TE.RB.RB.RB.WR.RB.RB.WR.WR.RB.WR.TE.RB.RB.WR.WR.WR.WR.RB.WR.WR.WR.WR.RB.RB.RB.RB.WR.WR.TE.WR.WR.TE.WR.WR.WR.TE.WR.WR.WR.TE.WR.WR.WR.WR.TE.TE.WR.WR.WR.TE.QB.WR.RB.WR.QB.RB.WR.QB.WR.WR.TE.RB.WR.TE.WR.QB.TE.RB.WR.RB.TE.WR.QB.RB.TE.QB.RB.RB.RB.WR.TE.RB.TE.WR.QB.WR.RB.WR.RB.RB.RB.WR.RB.TE.WR.TE.QB.RB.RB.WR.WR.TE.TE.RB.WR.RB.RB.WR.D.QB.WR.QB.WR.D.RB.WR.WR.QB.WR.WR.RB.RB.QB.RB.RB.WR.RB.RB.RB.WR.K.TE.TE.RB.RB.RB.WR.K.RB.RB.D.D.RB.WR.D.RB.QB.QB.WR.RB.QB.RB.D.QB.WR.RB.RB.D.D.D.QB.QB.D.QB.D.D.WR.K.D.D.WR.D.WR.D.QB.D.D.WR.QB.QB.QB.WR.WR.D.K.WR.D.WR.RB.WR.QB.QB.D.QB.K.K.WR.WR.WR.D.QB.QB.QB.TE.QB.D.TE.WR.WR.WR.WR.QB.RB.QB.WR.WR.D.RB.WR.QB.RB.RB.RB.WR.RB.K.WR.RB.RB.RB.RB.RB.WR.RB.WR.WR.WR.WR.WR.WR.RB.RB.RB.RB.RB.RB.QB.TE.WR.WR.WR.WR.K.WR.TE.WR.WR.WR.WR.WR.TE.TE.TE.TE.WR.TE.D.K.D.K.TE.D.RB.WR.D.WR.K.D.K.WR.D.K.TE.TE.WR.QB.TE.D.D.RB.QB.D.QB.D.TE.QB.QB.QB.D.D."
     ]
    },
    {
     "data": {
      "image/png": "[encoded data removed]",
      "text/plain": [
       "<Figure size 432x288 with 1 Axes>"
      ]
     },
     "metadata": {},
     "output_type": "display_data"
    }
   ],
   "source": [
    "results = []\n",
    "iterations = (100, 200, 400, 600, 800, 1000, 1200, 1400)\n",
    "for it in iterations:\n",
    "    state1 = state.Clone()\n",
    "    state2 = state.Clone()\n",
    "    print(it)\n",
    "    while state1.GetMoves() != []:\n",
    "        move1 = UCT(state1, it * (state1.turns[0] % 2 + 1))\n",
    "        print(move1, end=\".\")\n",
    "        state1.DoMove(move1)\n",
    "        move2 = UCT(state2, it * ((state2.turns[0] + 1) % 2 + 1))\n",
    "        print(move2, end=\".\")\n",
    "        state2.DoMove(move2)\n",
    "    results.append((state1, state2))\n",
    "\n",
    "base_res = []\n",
    "double_res = []\n",
    "for state1, state2 in results:\n",
    "    results1 = [sum(p.points for p in r) for r in state1.rosters]\n",
    "    results2 = [sum(p.points for p in r) for r in state2.rosters] \n",
    "    results1 = np.reshape(results1, (-1, 2))\n",
    "    results2 = np.reshape(results2, (-1, 2))\n",
    "    base_res.append(np.mean(np.ravel(np.hstack((results1[:, 0], results2[:, 1])))))\n",
    "    double_res.append(np.mean(np.ravel(np.hstack((results2[:, 0], results1[:, 1])))))"
   ]
  },
  {
   "cell_type": "code",
   "execution_count": 23,
   "metadata": {},
   "outputs": [
    {
     "data": {
      "image/png": "[encoded data removed]",
      "text/plain": [
       "<Figure size 432x288 with 1 Axes>"
      ]
     },
     "metadata": {},
     "output_type": "display_data"
    }
   ],
   "source": [
    "import matplotlib.pyplot as plt\n",
    "    \n",
    "fig, ax = plt.subplots()\n",
    "ax.plot(iterations, base_res, label=f\"base\")\n",
    "ax.plot(iterations, double_res, '--', label=f\"double\")\n",
    "ax.set(xlabel=\"iterations\", ylabel=\"score\")\n",
    "ax.legend()\n",
    "fig.savefig(\"iterations.png\")\n",
    "plt.show()"
   ]
  },
  {
   "cell_type": "code",
   "execution_count": 40,
   "metadata": {},
   "outputs": [],
   "source": [
    "def random_draft(state):\n",
    "    return np.random.choice(state.GetMoves())"
   ]
  },
  {
   "cell_type": "code",
   "execution_count": 45,
   "metadata": {},
   "outputs": [
    {
     "name": "stdout",
     "output_type": "stream",
     "text": [
      "QB.RB.RB.QB.K.RB.RB.TE.QB.RB.RB.K.QB.WR.RB.D.RB.RB.WR.QB.RB.D.K.RB.WR.WR.RB.RB.WR.RB.QB.WR.WR.TE.QB.WR.RB.D.K.WR.WR.WR.WR.WR.QB.RB.RB.K.K.RB.RB.TE.K.RB.RB.RB.QB.RB.RB.TE.WR.TE.TE.WR.RB.K.QB.RB.WR.WR.RB.RB.WR.QB.TE.WR.WR.K.QB.WR.RB.RB.WR.QB.D.WR.WR.RB.RB.WR.WR.D.RB.WR.TE.RB.TE.WR.WR.D.TE.WR.RB.TE.WR.D.WR.TE.TE.WR.D.WR.TE.RB.TE.WR.WR.D.RB.WR.WR.TE.TE.TE.D.TE.WR.D.WR.QB.WR.RB.RB.WR.WR.QB.WR.WR.WR.RB.TE.K.QB.RB.RB.WR.WR.RB.RB.WR.RB.RB.RB.QB.WR.RB.RB.TE.WR.RB.WR.WR.TE.WR.WR.QB.D.D.WR.WR.D.TE.TE.WR.D.TE.RB.RB.RB.WR.D.WR.D.QB.RB.RB.RB.QB.WR.RB.WR.RB.WR.WR.RB.WR.D.RB.RB.QB.WR.RB.WR.WR.WR.RB.RB.WR.D.QB.D.D.D.D.WR.RB.RB.WR.QB.WR.RB.WR.D.QB.QB.WR.TE.RB.QB.RB.TE.D.QB.WR.WR.QB.QB.RB.D.QB.TE.WR.RB.WR.RB.WR.QB.WR.TE.TE.RB.RB.WR.QB.QB.TE.RB.WR.WR.WR.WR.RB.RB.D.WR.WR.D.WR.WR.WR.WR.WR.WR.RB.WR.D.WR.WR.WR.D.D.TE.K.WR.RB.K.TE.WR.RB.D.QB.QB.WR.TE.TE.QB.WR.TE.QB.QB.K.RB.WR.D.D.RB.RB.D.TE.RB.WR.TE.D.RB.RB.TE.QB.RB.TE.D."
     ]
    }
   ],
   "source": [
    "state1 = state.Clone()\n",
    "state2 = state.Clone()\n",
    "it = 1000\n",
    "while state1.GetMoves() != []:\n",
    "    if state1.turns[0] % 2:\n",
    "        move1 = UCT(state1, it)\n",
    "        move2 = random_draft(state2)\n",
    "    else:\n",
    "        move1 = random_draft(state1)\n",
    "        move2 = UCT(state2, it)\n",
    "    print(move1, end=\".\")\n",
    "    state1.DoMove(move1)\n",
    "    print(move2, end=\".\")\n",
    "    state2.DoMove(move2)\n",
    "\n",
    "results1 = [sum(p.points for p in r) for r in state1.rosters]\n",
    "results2 = [sum(p.points for p in r) for r in state2.rosters] \n",
    "results1 = np.reshape(results1, (-1, 2))\n",
    "results2 = np.reshape(results2, (-1, 2))\n",
    "random_res = np.ravel(np.hstack((results1[:, 0], results2[:, 1])))\n",
    "mcts_res = np.ravel(np.hstack((results2[:, 0], results1[:, 1])))"
   ]
  },
  {
   "cell_type": "code",
   "execution_count": 61,
   "metadata": {},
   "outputs": [
    {
     "data": {
      "image/png": "[encoded data removed]",
      "text/plain": [
       "<Figure size 432x288 with 1 Axes>"
      ]
     },
     "metadata": {},
     "output_type": "display_data"
    }
   ],
   "source": [
    "fig, ax = plt.subplots()\n",
    "ax.plot([str(i + 1) for i in range(num_competitors)], random_res, 'o', label=\"random\")\n",
    "ax.axhline(np.mean(random_res), ls='--', c='tab:blue')\n",
    "ax.plot([str(i + 1) for i in range(num_competitors)], mcts_res, 'o', label='MCTS')\n",
    "ax.axhline(np.mean(mcts_res), ls='--', c='tab:orange')\n",
    "ax.set(xlabel=\"position\", ylabel=\"score\")\n",
    "ax.legend()\n",
    "fig.savefig(\"random.png\")\n",
    "plt.show()"
   ]
  },
  {
   "cell_type": "code",
   "execution_count": 43,
   "metadata": {},
   "outputs": [],
   "source": [
    "def greedy_draft(state):\n",
    "    def result(move):\n",
    "        st = state.Clone()\n",
    "        st.DoMove(move)\n",
    "        return st.GetResult(st.playerJustMoved)\n",
    "    \n",
    "    res, move = max((result(m), m) for m in state.GetMoves())\n",
    "    return move"
   ]
  },
  {
   "cell_type": "code",
   "execution_count": 62,
   "metadata": {},
   "outputs": [
    {
     "name": "stdout",
     "output_type": "stream",
     "text": [
      "D.RB.RB.D.D.RB.RB.D.QB.RB.RB.QB.QB.WR.WR.QB.QB.RB.RB.QB.RB.QB.QB.RB.RB.QB.QB.RB.WR.QB.QB.WR.WR.QB.QB.WR.RB.QB.QB.WR.QB.WR.WR.QB.QB.WR.RB.QB.K.RB.WR.K.K.RB.WR.K.K.RB.RB.K.TE.D.D.TE.RB.D.D.RB.RB.D.D.RB.WR.D.D.RB.RB.D.D.WR.K.RB.TE.K.K.WR.WR.K.D.TE.WR.D.D.TE.WR.D.D.WR.WR.D.WR.RB.WR.WR.TE.RB.WR.WR.TE.RB.WR.WR.TE.RB.WR.TE.RB.RB.WR.TE.WR.WR.RB.RB.RB.WR.WR.RB.WR.WR.WR.RB.RB.WR.WR.RB.WR.WR.RB.RB.TE.WR.WR.TE.TE.WR.RB.TE.TE.WR.WR.TE.TE.WR.RB.RB.TE.WR.RB.RB.RB.TE.WR.WR.WR.TE.RB.WR.TE.RB.RB.WR.WR.RB.RB.WR.TE.RB.RB.WR.RB.WR.WR.RB.WR.WR.WR.D.WR.WR.WR.RB.WR.WR.WR.WR.RB.WR.WR.WR.WR.RB.D.TE.TE.RB.QB.TE.TE.WR.QB.TE.TE.WR.QB.WR.TE.WR.D.TE.WR.WR.WR.QB.RB.RB.WR.QB.RB.WR.WR.QB.RB.WR.WR.D.WR.WR.RB.QB.RB.WR.QB.TE.RB.QB.QB.TE.WR.QB.QB.RB.RB.RB.QB.RB.WR.QB.WR.RB.K.RB.RB.WR.WR.TE.RB.WR.WR.RB.RB.WR.WR.RB.WR.WR.WR.RB.WR.D.WR.K.D.RB.RB.D.D.RB.RB.D.D.WR.WR.QB.D.WR.RB.D.QB.WR.QB.WR.RB.D.K.WR.WR.D.D.WR.RB.D.D.WR.WR.QB.QB.WR.TE.QB."
     ]
    }
   ],
   "source": [
    "state1 = state.Clone()\n",
    "state2 = state.Clone()\n",
    "it = 1000\n",
    "while state1.GetMoves() != []:\n",
    "    if state1.turns[0] % 2:\n",
    "        move1 = UCT(state1, it)\n",
    "        move2 = greedy_draft(state2)\n",
    "    else:\n",
    "        move1 = greedy_draft(state1)\n",
    "        move2 = UCT(state2, it)\n",
    "    print(move1, end=\".\")\n",
    "    state1.DoMove(move1)\n",
    "    print(move2, end=\".\")\n",
    "    state2.DoMove(move2)\n",
    "\n",
    "results1 = [sum(p.points for p in r) for r in state1.rosters]\n",
    "results2 = [sum(p.points for p in r) for r in state2.rosters] \n",
    "results1 = np.reshape(results1, (-1, 2))\n",
    "results2 = np.reshape(results2, (-1, 2))\n",
    "greedy_res = np.ravel(np.hstack((results1[:, 0], results2[:, 1])))\n",
    "mcts2_res = np.ravel(np.hstack((results2[:, 0], results1[:, 1])))"
   ]
  },
  {
   "cell_type": "code",
   "execution_count": 63,
   "metadata": {},
   "outputs": [
    {
     "data": {
      "image/png": "[encoded data removed]",
      "text/plain": [
       "<Figure size 432x288 with 1 Axes>"
      ]
     },
     "metadata": {},
     "output_type": "display_data"
    }
   ],
   "source": [
    "fig, ax = plt.subplots()\n",
    "ax.plot([str(i + 1) for i in range(num_competitors)], greedy_res, 'o', label=\"greedy\")\n",
    "ax.axhline(np.mean(greedy_res), ls='--', c='tab:blue')\n",
    "ax.plot([str(i + 1) for i in range(num_competitors)], mcts2_res, 'o', label='MCTS')\n",
    "ax.axhline(np.mean(mcts2_res), ls='--', c='tab:orange')\n",
    "ax.set(xlabel=\"position\", ylabel=\"score\")\n",
    "ax.legend()\n",
    "fig.savefig(\"greedy.png\")\n",
    "plt.show()"
   ]
  },
  {
   "cell_type": "code",
   "execution_count": 15,
   "metadata": {},
   "outputs": [
    {
     "name": "stdout",
     "output_type": "stream",
     "text": [
      "RB.RB.RB.WR.RB.RB.RB.WR.WR.RB.RB.RB.RB.WR.RB.WR.RB.WR.TE.WR.WR.TE.RB.RB.WR.WR.WR.WR.TE.WR.WR.TE.WR.WR.RB.WR.WR.QB.QB.WR.TE.WR.WR.WR.TE.TE.RB.RB.QB.WR.QB.RB.TE.TE.RB.RB.QB.WR.RB.RB.WR.D.WR.WR.WR.TE.WR.WR.RB.WR.RB.RB.QB.RB.RB.RB.TE.RB.WR.RB.QB.WR.D.RB.QB.K.QB.RB.WR.WR.D.D.D.D.WR.D.D.QB.RB.D.K.QB.WR.QB.QB.D.D.K.RB.TE.RB.D.WR.WR.RB.WR.WR.RB.WR.WR.RB.RB.WR.RB.WR.QB.QB.QB.WR.QB.WR.WR.WR.WR.WR.RB.WR.TE.WR.TE.WR.K.K.TE.TE.QB.RB.RB.K.D.TE.QB.D.TE.D.D.D.TE.D.QB.RB.RB.RB.WR.RB.RB.RB.RB.RB.WR.RB.RB.WR.TE.WR.RB.RB.WR.WR.WR.WR.RB.RB.TE.WR.WR.TE.WR.WR.WR.WR.WR.WR.QB.WR.RB.TE.WR.WR.WR.TE.WR.WR.QB.TE.RB.WR.RB.WR.RB.TE.QB.QB.RB.TE.RB.RB.TE.QB.RB.WR.WR.WR.D.TE.WR.RB.WR.WR.WR.RB.RB.RB.RB.QB.RB.WR.RB.TE.RB.QB.RB.QB.WR.K.RB.WR.D.D.QB.D.WR.WR.D.D.QB.RB.D.D.D.WR.QB.QB.QB.D.K.D.K.TE.WR.RB.D.QB.QB.QB.WR.WR.WR.WR.RB.QB.RB.RB.RB.RB.WR.WR.WR.WR.WR.K.RB.RB.RB.WR.WR.WR.WR.WR.WR.K.TE.TE.K.QB.RB.WR.TE.QB.TE.D.TE.D.K.D.D.D.D.D.D.RB.RB.RB.WR.RB.RB.RB.TE.RB.RB.WR.WR.RB.RB.WR.RB.RB.WR.WR.WR.RB.WR.RB.WR.TE.WR.WR.TE.WR.WR.WR.WR.QB.WR.WR.TE.WR.WR.WR.RB.TE.QB.WR.TE.QB.RB.WR.WR.RB.RB.TE.QB.RB.TE.TE.D.RB.WR.RB.RB.QB.WR.TE.WR.RB.WR.WR.RB.WR.WR.RB.RB.RB.QB.RB.RB.RB.RB.RB.RB.TE.D.QB.QB.K.QB.RB.WR.D.QB.D.K.D.D.D.WR.D.D.WR.WR.D.QB.QB.WR.WR.QB.WR.D.QB.K.QB.TE.QB.RB.RB.D.RB.WR.RB.RB.WR.WR.RB.QB.WR.WR.WR.WR.WR.WR.WR.WR.RB.K.WR.RB.WR.WR.TE.K.WR.TE.TE.TE.WR.K.D.WR.RB.RB.D.D.K.QB.D.QB.D.D.D.QB.RB.RB.RB.WR.RB.RB.RB.WR.RB.RB.TE.WR.WR.RB.RB.RB.RB.WR.WR.WR.RB.WR.RB.WR.TE.WR.TE.WR.WR.TE.WR.WR.RB.TE.WR.TE.WR.WR.WR.WR.WR.QB.WR.QB.QB.WR.WR.RB.RB.RB.QB.TE.TE.QB.WR.D.RB.TE.RB.WR.TE.WR.WR.WR.RB.QB.RB.WR.WR.RB.RB.RB.RB.RB.RB.K.TE.RB.RB.RB.QB.D.QB.RB.RB.D.WR.D.D.D.WR.QB.QB.D.QB.WR.D.D.WR.D.WR.QB.WR.WR.WR.K.QB.D.K.QB.RB.WR.WR.D.WR.QB.QB.RB.TE.RB.QB.RB.WR.RB.WR.RB.WR.RB.RB.WR.WR.WR.WR.RB.WR.RB.WR.TE.WR.WR.K.K.K.TE.WR.TE.WR.TE.D.D.K.QB.QB.WR.D.D.D.QB.TE.TE.RB.RB.RB.WR.RB.RB.RB.RB.WR.RB.WR.RB.RB.WR.TE.WR.RB.RB.WR.WR.WR.RB.RB.WR.TE.TE.WR.WR.WR.WR.WR.WR.WR.WR.QB.TE.WR.TE.RB.WR.QB.TE.RB.RB.RB.WR.TE.WR.QB.RB.WR.RB.WR.RB.RB.QB.TE.TE.RB.RB.WR.QB.RB.WR.WR.D.WR.TE.WR.QB.RB.RB.RB.RB.WR.WR.RB.K.RB.RB.TE.D.QB.QB.RB.WR.D.D.D.D.WR.WR.QB.QB.RB.D.D.WR.WR.D.WR.K.D.WR.D.QB.QB.QB.TE.D.K.QB.RB.WR.WR.QB.QB.WR.RB.QB.RB.WR.RB.RB.WR.RB.WR.WR.WR.WR.RB.RB.WR.RB.WR.WR.WR.WR.TE.WR.K.WR.D.K.RB.K.TE.TE.TE.QB.TE.D.D.D.D.K.TE.QB.QB.TE.RB.RB.RB.WR.RB.RB.RB.RB.RB.WR.RB.WR.RB.WR.WR.WR.RB.RB.TE.WR.WR.TE.RB.RB.WR.TE.WR.WR.WR.WR.WR.WR.WR.WR.TE.WR.RB.TE.QB.WR.QB.WR.WR.TE.RB.RB.RB.WR.TE.RB.QB.RB.TE.WR.QB.TE.RB.RB.RB.RB.WR.WR.RB.QB.WR.D.TE.WR.WR.WR.TE.RB.QB.RB.WR.RB.RB.QB.WR.RB.D.RB.K.RB.QB.WR.QB.RB.QB.RB.D.D.D.D.RB.D.D.D.D.WR.QB.K.WR.WR.WR.QB.WR.QB.D.D.K.TE.WR.QB.WR.QB.QB.RB.WR.WR.RB.QB.WR.WR.RB.RB.RB.WR.WR.WR.WR.WR.RB.WR.WR.WR.WR.WR.RB.TE.TE.WR.TE.K.K.K.TE.D.RB.QB.RB.QB.TE.D.D.D.TE.QB.D.D.RB.RB.RB.WR.RB.RB.RB.WR.TE.RB.WR.RB.RB.WR.RB.RB.RB.WR.WR.WR.WR.RB.RB.WR.TE.TE.WR.WR.TE.WR.WR.QB.WR.WR.TE.WR.WR.RB.RB.WR.QB.TE.TE.RB.TE.WR.RB.RB.WR.RB.QB.WR.WR.WR.QB.QB.TE.RB.RB.RB.WR.RB.RB.WR.D.WR.TE.QB.RB.WR.RB.WR.TE.RB.WR.WR.QB.K.QB.RB.D.RB.RB.RB.WR.RB.QB.RB.RB.D.QB.D.D.D.D.RB.D.D.WR.WR.QB.D.WR.WR.WR.K.WR.QB.D.K.TE.QB.WR.QB.D.QB.QB.WR.WR.WR.RB.QB.TE.RB.RB.WR.RB.RB.WR.WR.WR.WR.WR.WR.WR.WR.WR.WR.WR.TE.K.K.D.TE.K.RB.TE.D.RB.D.RB.K.TE.D.QB.D.D.QB.TE.TE.RB.RB.RB.WR.RB.RB.RB.WR.RB.RB.WR.RB.RB.TE.WR.RB.RB.WR.WR.WR.WR.RB.RB.WR.WR.TE.TE.WR.WR.WR.WR.WR.WR.QB.TE.WR.WR.RB.RB.WR.QB.TE.TE.RB.WR.RB.WR.RB.WR.TE.RB.QB.QB.WR.QB.TE.TE.RB.RB.RB.WR.RB.RB.WR.WR.D.RB.TE.WR.WR.QB.TE.WR.WR.WR.RB.RB.QB.D.RB.K.QB.WR.D.D.WR.RB.RB.RB.RB.D.D.D.D.RB.QB.QB.D.WR.D.WR.RB.RB.WR.K.D.QB.QB.QB.WR.K.WR.WR.WR.WR.WR.QB.QB.QB.TE.D.WR.WR.RB.QB.RB.K.WR.WR.WR.RB.RB.RB.WR.WR.WR.WR.TE.TE.WR.RB.WR.K.TE.RB.K.RB.TE.D.QB.D.TE.D.D.QB.TE.D.WR.D.QB.RB.RB.RB.WR.RB.RB.RB.WR.WR.RB.RB.RB.RB.TE.RB.RB.WR.WR.WR.WR.WR.RB.RB.WR.WR.WR.TE.TE.WR.WR.WR.WR.TE.QB.WR.RB.RB.WR.WR.WR.TE.WR.WR.QB.TE.WR.WR.QB.RB.WR.TE.QB.RB.RB.QB.RB.RB.TE.TE.RB.WR.WR.WR.D.RB.WR.RB.RB.TE.WR.QB.WR.K.RB.RB.TE.WR.RB.QB.RB.D.RB.QB.RB.RB.D.WR.RB.RB.RB.D.D.D.D.WR.D.WR.D.D.QB.WR.WR.QB.K.WR.QB.QB.D.QB.K.WR.WR.WR.D.TE.QB.QB.WR.QB.RB.QB.RB.RB.RB.WR.RB.WR.WR.WR.WR.RB.RB.RB.RB.WR.WR.WR.WR.WR.WR.K.TE.K.TE.K.TE.WR.QB.TE.QB.D.D.WR.K.D.QB.D.D.D.D.RB.RB.RB.WR.RB.RB.RB.RB.WR.RB.WR.RB.RB.TE.WR.WR.RB.WR.RB.WR.RB.WR.WR.RB.TE.TE.TE.WR.WR.WR.WR.WR.WR.WR.TE.TE.RB.WR.WR.WR.WR.WR.QB.QB.QB.RB.RB.WR.RB.RB.TE.WR.TE.QB.QB.RB.TE.RB.WR.WR.TE.D.WR.RB.RB.WR.RB.WR.QB.WR.RB.TE.RB.RB.WR.RB.RB.RB.RB.RB.QB.QB.D.K.WR.RB.WR.QB.RB.QB.D.D.D.D.D.D.D.WR.WR.D.WR.QB.QB.WR.K.QB.D.WR.QB.QB.K.RB.QB.RB.D.QB.RB.TE.RB.RB.WR.TE.RB.WR.WR.WR.WR.RB.WR.WR.RB.WR.WR.WR.RB.RB.TE.WR.WR.K.TE.K.K.WR.WR.WR.QB.TE.D.WR.D.TE.D.K.WR.D.QB.TE.TE.QB.RB.RB.RB.WR.RB.RB.RB.RB.RB.RB.WR.RB.WR.RB.RB.TE.WR.WR.WR.WR.RB.RB.WR.WR.TE.WR.WR.WR.WR.TE.TE.WR.WR.WR.QB.QB.RB.WR.RB.WR.WR.TE.RB.RB.WR.WR.WR.TE.WR.QB.RB.TE.RB.TE.WR.RB.TE.QB.RB.WR.TE.QB.WR.WR.D.WR.WR.WR.WR.RB.RB.RB.QB.RB.RB.WR.RB.RB.RB.RB.D.TE.K.QB.WR.D.QB.RB.D.WR.D.QB.D.D.WR.RB.D.D.WR.QB.WR.D.QB.K.QB.QB.WR.WR.WR.D.K.RB.RB.QB.TE.D.WR.WR.RB.QB.RB.QB.RB.RB.WR.RB.WR.QB.WR.WR.RB.K.WR.RB.WR.RB.WR.WR.WR.WR.K.WR.TE.TE.K.TE.TE.D.QB.QB.WR.D.TE.D.D.WR.QB.TE.D.TE.RB.RB.RB.WR.RB.RB.RB.RB.WR.WR.RB.RB.TE.WR.RB.RB.RB.WR.WR.WR.RB.RB.WR.WR.TE.WR.WR.TE.WR.WR.WR.WR.QB.WR.RB.TE.WR.WR.WR.QB.RB.WR.TE.RB.WR.TE.RB.WR.RB.RB.TE.QB.WR.TE.QB.QB.TE.RB.WR.WR.TE.D.WR.WR.WR.RB.WR.RB.WR.WR.RB.RB.WR.QB.RB.WR.RB.RB.TE.WR.RB.RB.QB.D.RB.WR.RB.K.WR.QB.D.D.RB.D.D.D.QB.D.QB.D.QB.QB.QB.WR.K.RB.WR.D.D.WR.RB.TE.WR.K.WR.D.QB.WR.WR.WR.RB.RB.RB.WR.WR.QB.QB.QB.WR.WR.TE.RB.RB.WR.WR.RB.RB.WR.WR.WR.TE.TE.TE.K.WR.K.RB.D.K.D.QB.QB.WR.D.D.QB.TE.D.D.D.RB.RB.RB.WR.RB.RB.RB.RB.WR.RB.TE.RB.WR.RB.RB.RB.WR.WR.WR.WR.RB.WR.WR.RB.TE.TE.WR.WR.WR.TE.WR.WR.WR.WR.TE.TE.WR.WR.WR.QB.RB.QB.RB.RB.WR.QB.WR.RB.TE.QB.RB.RB.WR.WR.D.QB.TE.TE.RB.TE.RB.WR.WR.WR.RB.RB.RB.QB.WR.WR.WR.RB.RB.TE.RB.RB.RB.RB.RB.RB.K.D.QB.QB.WR.WR.QB.D.QB.RB.D.D.K.D.WR.D.D.D.QB.D.WR.WR.WR.WR.QB.QB.WR.D.K.D.RB.TE.QB.RB.RB.RB.QB.QB.RB.RB.WR.TE.RB.RB.WR.WR.QB.WR.WR.WR.K.RB.RB.WR.K.K.WR.WR.WR.TE.WR.TE.TE.D.WR.WR.D.WR.WR.WR.QB.QB.TE.TE.D.D.TE.D.D.QB.RB.RB.RB.WR.RB.RB.RB.RB.RB.WR.RB.RB.RB.WR.TE.RB.WR.WR.WR.WR.WR.WR.RB.RB.TE.TE.WR.WR.WR.WR.WR.WR.WR.WR.QB.TE.WR.RB.WR.WR.TE.QB.TE.RB.WR.RB.RB.WR.WR.RB.TE.QB.TE.TE.D.QB.QB.RB.RB.RB.WR.WR.RB.WR.RB.RB.WR.WR.TE.WR.QB.WR.RB.RB.RB.K.TE.QB.RB.RB.D.QB.WR.RB.RB.WR.QB.QB.RB.RB.D.D.D.D.WR.WR.D.D.D.QB.WR.WR.QB.QB.D.K.WR.K.D.WR.QB.WR.WR.QB.QB.D.WR.RB.TE.RB.QB.RB.WR.RB.WR.WR.WR.WR.WR.WR.RB.RB.RB.RB.RB.RB.WR.TE.WR.WR.K.TE.WR.TE.WR.D.TE.QB.K.D.K.QB.D.D.WR.QB.D.D.D.D.RB.RB.RB.WR.RB.RB.RB.RB.WR.RB.RB.RB.WR.WR.RB.RB.WR.WR.TE.WR.WR.TE.RB.RB.WR.WR.WR.WR.WR.TE.TE.WR.WR.WR.RB.WR.WR.WR.QB.WR.TE.QB.WR.RB.WR.TE.RB.RB.RB.QB.WR.TE.TE.TE.RB.QB.QB.WR.RB.RB.WR.D.TE.WR.WR.RB.WR.WR.WR.RB.RB.QB.RB.RB.TE.RB.RB.RB.WR.RB.D.WR.QB.K.D.RB.QB.QB.RB.WR.D.D.D.D.WR.WR.D.D.WR.QB.WR.RB.K.QB.QB.D.QB.D.WR.K.D.RB.WR.WR.QB.TE.WR.QB.WR.QB.RB.RB.WR.RB.WR.WR.WR.QB.WR.WR.RB.K.WR.RB.K.RB.WR.WR.K.WR.TE.WR.RB.TE.TE.QB.TE.RB.QB.WR.QB.D.TE.D.D.D.TE.TE.D.D.RB.RB.RB.WR.RB.RB.RB.RB.RB.WR.RB.WR.RB.WR.RB.WR.RB.WR.TE.WR.RB.TE.RB.WR.WR.WR.WR.WR.TE.WR.WR.TE.WR.WR.RB.WR.WR.QB.QB.WR.WR.WR.WR.TE.QB.TE.RB.WR.RB.RB.TE.QB.TE.QB.RB.RB.RB.WR.RB.TE.WR.WR.WR.WR.TE.RB.WR.WR.D.WR.RB.RB.QB.TE.D.WR.RB.RB.WR.RB.QB.RB.K.QB.RB.WR.RB.RB.RB.QB.D.WR.D.D.QB.D.D.D.D.D.WR.QB.QB.WR.QB.RB.K.K.D.QB.WR.QB.QB.WR.WR.WR.D.WR.WR.RB.TE.RB.RB.RB.RB.QB.RB.WR.WR.WR.RB.RB.WR.WR.WR.WR.WR.TE.WR.WR.K.K.TE.TE.TE.K.D.RB.WR.D.TE.K.D.QB.D.D.QB.WR.D.QB.RB.RB.RB.WR.RB.RB.RB.RB.WR.RB.WR.RB.RB.RB.WR.RB.WR.WR.TE.WR.RB.TE.WR.RB.TE.WR.WR.WR.WR.WR.WR.WR.WR.RB.WR.TE.WR.WR.QB.RB.TE.RB.QB.TE.WR.RB.TE.WR.RB.RB.WR.QB.WR.RB.TE.QB.RB.RB.QB.RB.RB.WR.TE.WR.D.WR.TE.QB.WR.TE.RB.RB.RB.RB.RB.WR.RB.WR.WR.K.QB.WR.RB.QB.WR.D.QB.D.D.D.QB.WR.WR.WR.QB.RB.D.D.RB.WR.D.D.QB.WR.K.QB.D.D.K.WR.RB.TE.RB.RB.WR.D.QB.WR.WR.RB.QB.RB.RB.RB.QB.RB.QB.TE.WR.WR.TE.RB.WR.WR.WR.WR.WR.WR.WR.WR.WR.K.K.K.WR.TE.D.TE.QB.QB.D.D.QB.WR.D.RB.TE.TE.D.TE.RB.RB.RB.WR.RB.RB.RB.RB.RB.RB.WR.WR.TE.RB.RB.RB.WR.WR.WR.WR.WR.RB.WR.RB.TE.WR.WR.TE.WR.WR.WR.WR.WR.WR.RB.TE.WR.WR.WR.QB.WR.WR.TE.TE.QB.TE.WR.QB.RB.RB.QB.QB.RB.TE.RB.WR.RB.RB.TE.RB.WR.WR.WR.WR.D.TE.WR.RB.WR.WR.RB.RB.RB.QB.RB.K.RB.TE.RB.RB.D.QB.RB.QB.WR.RB.RB.WR.D.D.WR.WR.D.D.WR.WR.D.QB.D.QB.WR.K.D.QB.RB.D.QB.QB.K.D.TE.D.WR.WR.QB.QB.WR.QB.WR.RB.WR.RB.WR.RB.WR.WR.RB.RB.WR.WR.QB.RB.WR.WR.WR.RB.WR.WR.TE.TE.K.WR.RB.K.D.K.TE.D.TE.RB.TE.QB.K.D.QB.WR.D.D."
     ]
    },
    {
     "name": "stdout",
     "output_type": "stream",
     "text": [
      "QB.TE.RB.RB.RB.WR.RB.RB.RB.RB.TE.WR.RB.RB.RB.RB.RB.WR.WR.WR.WR.WR.WR.RB.WR.RB.TE.WR.WR.WR.TE.WR.WR.WR.WR.RB.WR.TE.WR.WR.QB.WR.TE.WR.QB.TE.QB.WR.TE.WR.RB.RB.QB.QB.TE.RB.TE.RB.RB.RB.WR.RB.WR.WR.D.WR.RB.WR.RB.WR.K.WR.TE.RB.QB.TE.RB.RB.RB.WR.RB.RB.QB.D.RB.QB.WR.QB.RB.RB.RB.RB.D.WR.D.QB.D.D.D.QB.WR.D.WR.QB.WR.QB.K.WR.D.K.D.D.QB.QB.QB.WR.RB.D.WR.TE.RB.RB.QB.WR.RB.RB.WR.WR.WR.WR.WR.WR.RB.RB.WR.WR.TE.RB.WR.WR.TE.WR.TE.K.K.TE.WR.K.D.RB.WR.WR.TE.D.D.QB.QB.QB.D.TE.TE.D.RB.RB.RB.WR.RB.RB.RB.RB.TE.WR.RB.RB.RB.WR.RB.RB.WR.WR.WR.WR.WR.TE.WR.RB.RB.TE.WR.WR.WR.WR.WR.TE.WR.WR.TE.QB.WR.WR.TE.WR.RB.QB.RB.RB.TE.WR.RB.WR.QB.RB.WR.WR.QB.QB.D.RB.TE.TE.RB.WR.TE.WR.WR.WR.RB.QB.WR.WR.RB.RB.TE.WR.RB.RB.WR.K.RB.RB.WR.RB.QB.RB.D.QB.WR.WR.D.D.RB.D.QB.D.WR.WR.RB.WR.D.QB.D.D.D.K.QB.QB.D.QB.K.RB.D.WR.RB.WR.TE.RB.WR.RB.WR.WR.WR.WR.QB.QB.WR.WR.WR.RB.QB.WR.QB.WR.K.RB.TE.WR.WR.WR.RB.RB.WR.RB.WR.RB.TE.TE.TE.K.D.K.WR.D.QB.K.QB.TE.D.QB.D.RB.D.TE."
     ]
    }
   ],
   "source": [
    "states = []\n",
    "it = 1000\n",
    "for i in range(20):\n",
    "    st = state.Clone()\n",
    "    while st.GetMoves() != []:\n",
    "        move = UCT(st, it)\n",
    "        print(move, end=\".\")\n",
    "        st.DoMove(move)\n",
    "    states.append(st)"
   ]
  },
  {
   "cell_type": "code",
   "execution_count": 71,
   "metadata": {},
   "outputs": [
    {
     "data": {
      "image/png": "[encoded data removed]",
      "text/plain": [
       "<Figure size 432x288 with 1 Axes>"
      ]
     },
     "metadata": {},
     "output_type": "display_data"
    }
   ],
   "source": [
    "fig, ax = plt.subplots()\n",
    "ax.plot([str(i + 1) for i in range(num_competitors)],\n",
    "        np.mean([[sum(p.points for p in r) for r in s.rosters] for s in states], axis=0),\n",
    "        ':o')\n",
    "ax.set(xlabel=\"position\", ylabel=\"avg score\")\n",
    "fig.savefig(\"position.png\")\n",
    "plt.show()"
   ]
  }
 ],
 "metadata": {
  "kernelspec": {
   "display_name": "Python 3",
   "language": "python",
   "name": "python3"
  },
  "language_info": {
   "codemirror_mode": {
    "name": "ipython",
    "version": 3
   },
   "file_extension": ".py",
   "mimetype": "text/x-python",
   "name": "python",
   "nbconvert_exporter": "python",
   "pygments_lexer": "ipython3",
   "version": "3.6.5"
  }
 },
 "nbformat": 4,
 "nbformat_minor": 2
}
