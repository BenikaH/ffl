{
 "cells": [
  {
   "cell_type": "markdown",
   "metadata": {},
   "source": [
    "# Using Monte Carlo Tree Search for your Fantasy Football draft\n",
    "Two more months till the next American Football season kicks off, which means Fantasy Football players around the world are preparing for their upcoming league draft. In this blog we will use the Monte Carlo Tree Search algorithm to optimize our next pick in a typical snake draft. If you are not familiar with Fantasy Football or snake drafts, you can find a good introduction at ESPN's Fantasy Football 101. We will look at a standard PPR scoring league on ESPN consisting of ten teams, but these settings should be easy to change to fit your own league's."
   ]
  },
  {
   "cell_type": "code",
   "execution_count": 29,
   "metadata": {},
   "outputs": [],
   "source": [
    "import pandas as pd"
   ]
  },
  {
   "cell_type": "code",
   "execution_count": 30,
   "metadata": {},
   "outputs": [],
   "source": [
    "class DraftState:\n",
    "    def __init__(self, rosters, turns, freeagents, playerjm=None):\n",
    "        self.rosters = rosters\n",
    "        self.turns = turns\n",
    "        self.freeagents = freeagents\n",
    "        self.playerJustMoved = playerjm"
   ]
  },
  {
   "cell_type": "code",
   "execution_count": 31,
   "metadata": {},
   "outputs": [],
   "source": [
    "def GetResult(self, playerjm):\n",
    "    \"\"\" Get the game result from the viewpoint of playerjm.\n",
    "    \"\"\"\n",
    "    pos_wgts = {\n",
    "        [\"QB\"]: [.6, .4],\n",
    "        [\"WR\"]: [.7, .7, .4, .2],\n",
    "        [\"RB\"]: [.7, .7, .4, .2],\n",
    "        [\"TE\"]: [.6, .4],\n",
    "        [\"RB\", \"WR\", \"TE\"]: [.6, .4],\n",
    "        [\"D\"]: [.6, .3, .1],\n",
    "        [\"K\"]: [.5, .2, .2, .1]\n",
    "    }\n",
    "\n",
    "    if playerjm is None: return 0\n",
    "\n",
    "    roster = self.rosters[playerjm].sort_values(\"points\", ascending=False)\n",
    "    result = 0\n",
    "    for roster_pos, pts in zip(roster[\"position\"], roster[\"points\"]):\n",
    "        max_wgt, _, max_pos = max(\n",
    "            ((wgts[0], len(lineup_pos), lineup_pos) for lineup_pos, wgts in pos_wgts.items()\n",
    "                if roster_pos in lineup_pos),\n",
    "            default=0)\n",
    "        if max_wgt > 0:\n",
    "            result += max_wgt * pts\n",
    "            old_wgts = pos_wgts[max_pos]\n",
    "            if len(old_wgts) > 1:\n",
    "                pos_wgts[max_pos] = old_wgts[1:]\n",
    "            else:\n",
    "                pos_wgts.pop(max_pos)\n",
    "                \n",
    "    for pos, wgts in pos_wgts.items():\n",
    "        fa = self.freeagents\n",
    "        res += fa.points[fa.position.isin(pos)].head(3).mean()\n",
    "        \n",
    "DraftState.GetResult = GetResult"
   ]
  },
  {
   "cell_type": "code",
   "execution_count": 37,
   "metadata": {},
   "outputs": [],
   "source": [
    "def GetMoves(self):\n",
    "    \"\"\" Get all possible moves from this state.\n",
    "    \"\"\"\n",
    "    POS_MAX = {\"QB\": 2, \"WR\": 6, \"RB\": 6, \"TE\": 2, \"D\": 2, \"K\": 1}\n",
    "\n",
    "    if len(self.turns) == 0: return []\n",
    "\n",
    "    roster = self.rosters[self.turns[0]]\n",
    "    moves = [pos for pos, max_ in POS_MAX if sum(roster.position == pos) < max_]\n",
    "    return list(moves)\n",
    "\n",
    "DraftState.GetMoves = GetMoves"
   ]
  },
  {
   "cell_type": "code",
   "execution_count": 4,
   "metadata": {},
   "outputs": [],
   "source": [
    "nfl_players = pd.read_csv(\"nfl_players.csv\", index_col=0)"
   ]
  },
  {
   "cell_type": "code",
   "execution_count": 17,
   "metadata": {},
   "outputs": [],
   "source": [
    "roster = pd.DataFrame(columns=[\"name\", \"team\", \"position\", \"points\"])"
   ]
  }
 ],
 "metadata": {
  "kernelspec": {
   "display_name": "Python 3",
   "language": "python",
   "name": "python3"
  },
  "language_info": {
   "codemirror_mode": {
    "name": "ipython",
    "version": 3
   },
   "file_extension": ".py",
   "mimetype": "text/x-python",
   "name": "python",
   "nbconvert_exporter": "python",
   "pygments_lexer": "ipython3",
   "version": "3.6.5"
  }
 },
 "nbformat": 4,
 "nbformat_minor": 2
}
